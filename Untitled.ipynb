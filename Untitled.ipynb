{
 "cells": [
  {
   "cell_type": "code",
   "execution_count": 6,
   "metadata": {},
   "outputs": [
    {
     "ename": "ValueError",
     "evalue": "Attempted relative import in non-package",
     "output_type": "error",
     "traceback": [
      "\u001b[0;31m-------------------------------------\u001b[0m",
      "\u001b[0;31mValueError\u001b[0mTraceback (most recent call last)",
      "\u001b[0;32m<ipython-input-6-47811b96173d>\u001b[0m in \u001b[0;36m<module>\u001b[0;34m()\u001b[0m\n\u001b[0;32m----> 1\u001b[0;31m \u001b[0;32mfrom\u001b[0m \u001b[0;34m.\u001b[0m \u001b[0;32mimport\u001b[0m \u001b[0minference\u001b[0m\u001b[0;34m\u001b[0m\u001b[0m\n\u001b[0m",
      "\u001b[0;31mValueError\u001b[0m: Attempted relative import in non-package"
     ]
    }
   ],
   "source": [
    "from . import inference"
   ]
  },
  {
   "cell_type": "code",
   "execution_count": 2,
   "metadata": {},
   "outputs": [],
   "source": [
    "args_in = \"--src=de --tgt=en \\\n",
    "    --ckpt=/home/shuang/zhuiyi/tf/code/deen_gnmt_model_4_layer/translate.ckpt \\\n",
    "    --hparams_path=nmt/standard_hparams/wmt16_gnmt_4_layer.json \\\n",
    "    --out_dir=/tmp/deen_gnmt \\\n",
    "    --vocab_prefix=/tmp/wmt16/vocab.bpe.32000 \\\n",
    "    --inference_input_file=/home/shuang/zhuiyi/tf/code/nmt_test/test.de \\\n",
    "    --inference_output_file=/tmp/deen_gnmt/output_infer \\\n",
    "    --inference_ref_file=/tmp/wmt16/newstest2015.tok.bpe.32000.en\""
   ]
  }
 ],
 "metadata": {
  "kernelspec": {
   "display_name": "Python 2",
   "language": "python",
   "name": "python2"
  },
  "language_info": {
   "codemirror_mode": {
    "name": "ipython",
    "version": 2
   },
   "file_extension": ".py",
   "mimetype": "text/x-python",
   "name": "python",
   "nbconvert_exporter": "python",
   "pygments_lexer": "ipython2",
   "version": "2.7.12"
  }
 },
 "nbformat": 4,
 "nbformat_minor": 2
}
